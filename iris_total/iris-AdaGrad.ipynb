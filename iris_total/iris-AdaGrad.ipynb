{
 "cells": [
  {
   "cell_type": "code",
   "execution_count": 1,
   "metadata": {},
   "outputs": [],
   "source": [
    "import numpy as np\n",
    "import matplotlib.pyplot as plt\n",
    "from sklearn import datasets"
   ]
  },
  {
   "cell_type": "code",
   "execution_count": 2,
   "metadata": {},
   "outputs": [],
   "source": [
    "# -- 載入 Iris 資料集 --\n",
    "iris_data = datasets.load_iris()\n",
    "input_data = iris_data.data\n",
    "correct = iris_data.target\n",
    "n_data = len(correct)  # 樣本數"
   ]
  },
  {
   "cell_type": "code",
   "execution_count": 3,
   "metadata": {},
   "outputs": [],
   "source": [
    "# -- 將訓練樣本做標準化 (standardization) x_std=(x-mean)/sigma 處理 --\n",
    "ave_input = np.average(input_data, axis=0)\n",
    "std_input = np.std(input_data, axis=0)\n",
    "input_data = (input_data - ave_input) / std_input"
   ]
  },
  {
   "cell_type": "code",
   "execution_count": 4,
   "metadata": {},
   "outputs": [],
   "source": [
    "# -- 將標籤 (正確答案) 做 one-hot 編碼 --\n",
    "correct_data = np.zeros((n_data, 3))\n",
    "for i in range(n_data):\n",
    "    correct_data[i, correct[i]] = 1.0"
   ]
  },
  {
   "cell_type": "code",
   "execution_count": 5,
   "metadata": {},
   "outputs": [],
   "source": [
    "# -- 將資料集拆分為「訓練資料集」與「測試資料集」 --\n",
    "index = np.arange(n_data)\n",
    "index_train = index[index%2 == 0]\n",
    "index_test  = index[index%2 != 0]"
   ]
  },
  {
   "cell_type": "code",
   "execution_count": 6,
   "metadata": {},
   "outputs": [],
   "source": [
    "input_train = input_data[index_train, :]  # 輸入\n",
    "correct_train = correct_data[index_train, :]  # 正確答案\n",
    "input_test = input_data[index_test, :]  # 輸入\n",
    "correct_test = correct_data[index_test, :]  #  正確答案"
   ]
  },
  {
   "cell_type": "code",
   "execution_count": 7,
   "metadata": {},
   "outputs": [],
   "source": [
    "n_train = input_train.shape[0]  # 訓練資料的樣本數 (75)\n",
    "n_test = input_test.shape[0]  # 測試資料的樣本數 (75)"
   ]
  },
  {
   "cell_type": "code",
   "execution_count": 8,
   "metadata": {},
   "outputs": [],
   "source": [
    "# -- 各設定値 --\n",
    "n_in = 4  # 輸入層的神經元數量\n",
    "n_mid = 25  # 中間層的神經元數量\n",
    "n_out = 3  # 輸出層的神經元數量"
   ]
  },
  {
   "cell_type": "code",
   "execution_count": 9,
   "metadata": {},
   "outputs": [],
   "source": [
    "wb_width = 0.1  # 設定權重參數的初始值乘上 0.01\n",
    "eta = 0.01  # 學習率 (eta)\n",
    "epoch = 1000\n",
    "batch_size = 8\n",
    "interval = 100"
   ]
  },
  {
   "cell_type": "code",
   "execution_count": 10,
   "metadata": {},
   "outputs": [],
   "source": [
    "#-- 各層的繼承來源 --\n",
    "# -- 父類別 --\n",
    "class BaseLayer:\n",
    "    def __init__(self, n_upper, n):\n",
    "        self.w = wb_width * np.random.randn(n_upper, n)\n",
    "        self.b = wb_width * np.random.randn(n) \n",
    "\n",
    "        self.h_w = np.zeros(( n_upper, n)) + 1e-8\n",
    "        self.h_b = np.zeros(n) + 1e-8\n",
    "        \n",
    "    def update(self, eta):      \n",
    "        self.h_w += self.grad_w * self.grad_w\n",
    "        self.w -= eta / np.sqrt(self.h_w) * self.grad_w\n",
    "        \n",
    "        self.h_b += self.grad_b * self.grad_b\n",
    "        self.b -= eta / np.sqrt(self.h_b) * self.grad_b"
   ]
  },
  {
   "cell_type": "code",
   "execution_count": 11,
   "metadata": {},
   "outputs": [],
   "source": [
    "# -- 中間層 --\n",
    "class MiddleLayer(BaseLayer):\n",
    "    def forward(self, x):\n",
    "        self.x = x\n",
    "        self.u = np.dot(x, self.w) + self.b\n",
    "        self.y = np.where(self.u <= 0, 0, self.u)  # ReLU\n",
    "    \n",
    "    def backward(self, grad_y):\n",
    "        delta = grad_y * np.where(self.u <= 0, 0, 1)  # ReLU的微分\n",
    "\n",
    "        self.grad_w = np.dot(self.x.T, delta)\n",
    "        self.grad_b = np.sum(delta, axis=0)\n",
    "        \n",
    "        self.grad_x = np.dot(delta, self.w.T)"
   ]
  },
  {
   "cell_type": "code",
   "execution_count": 12,
   "metadata": {},
   "outputs": [],
   "source": [
    "# -- 輸出層 --\n",
    "class OutputLayer(BaseLayer):     \n",
    "    def forward(self, x):\n",
    "        self.x = x\n",
    "        u = np.dot(x, self.w) + self.b\n",
    "        self.y = np.exp(u)/np.sum(np.exp(u), axis=1, keepdims=True)  # softmax 函數\n",
    "\n",
    "    def backward(self, t):\n",
    "        delta = self.y - t\n",
    "        \n",
    "        self.grad_w = np.dot(self.x.T, delta)\n",
    "        self.grad_b = np.sum(delta, axis=0)\n",
    "        \n",
    "        self.grad_x = np.dot(delta, self.w.T)"
   ]
  },
  {
   "cell_type": "code",
   "execution_count": 13,
   "metadata": {},
   "outputs": [],
   "source": [
    "# -- 各層的實體化 --\n",
    "middle_layer_1 = MiddleLayer(n_in, n_mid)\n",
    "middle_layer_2 = MiddleLayer(n_mid, n_mid)\n",
    "output_layer = OutputLayer(n_mid, n_out)"
   ]
  },
  {
   "cell_type": "code",
   "execution_count": 14,
   "metadata": {},
   "outputs": [],
   "source": [
    "# -- 前向傳播 --\n",
    "def forward_propagation(x):\n",
    "    middle_layer_1.forward(x)\n",
    "    middle_layer_2.forward(middle_layer_1.y)\n",
    "    output_layer.forward(middle_layer_2.y)"
   ]
  },
  {
   "cell_type": "code",
   "execution_count": 15,
   "metadata": {},
   "outputs": [],
   "source": [
    "# -- 反向傳播 --\n",
    "def backpropagation(t):\n",
    "    output_layer.backward(t)\n",
    "    middle_layer_2.backward(output_layer.grad_x)\n",
    "    middle_layer_1.backward(middle_layer_2.grad_x)"
   ]
  },
  {
   "cell_type": "code",
   "execution_count": 16,
   "metadata": {},
   "outputs": [],
   "source": [
    "# -- 修正權重參數 --\n",
    "def update_wb():\n",
    "    middle_layer_1.update(eta)\n",
    "    middle_layer_2.update(eta)\n",
    "    output_layer.update(eta)"
   ]
  },
  {
   "cell_type": "code",
   "execution_count": 17,
   "metadata": {},
   "outputs": [],
   "source": [
    "# -- 計算交叉熵誤差--\n",
    "def get_error(t, batch_size):\n",
    "    return -np.sum(t * np.log(output_layer.y+ 1e-7)) / batch_size  # 交叉熵誤差誤差"
   ]
  },
  {
   "cell_type": "code",
   "execution_count": 18,
   "metadata": {},
   "outputs": [],
   "source": [
    "# -- 開始訓練 --\n",
    "# -- 記錄誤差用 --\n",
    "train_error_x = []\n",
    "train_error_y = []\n",
    "test_error_x = []\n",
    "test_error_y = []"
   ]
  },
  {
   "cell_type": "code",
   "execution_count": 19,
   "metadata": {},
   "outputs": [],
   "source": [
    "# -- 記錄學習與進度--\n",
    "n_batch = n_train // batch_size  # 每 1 epoch 的批次數量"
   ]
  },
  {
   "cell_type": "code",
   "execution_count": 20,
   "metadata": {},
   "outputs": [
    {
     "name": "stdout",
     "output_type": "stream",
     "text": [
      "Epoch:0/1000 Error_train:1.084975728284926 Error_test:1.0863576592607311\n",
      "Epoch:100/1000 Error_train:0.04489476891361162 Error_test:0.07720309385026033\n",
      "Epoch:200/1000 Error_train:0.026039679679244216 Error_test:0.07082584071368411\n",
      "Epoch:300/1000 Error_train:0.01844849863387294 Error_test:0.06971531349559111\n",
      "Epoch:400/1000 Error_train:0.013969736800091746 Error_test:0.07005109324346816\n",
      "Epoch:500/1000 Error_train:0.010933085823868312 Error_test:0.0706494339173924\n",
      "Epoch:600/1000 Error_train:0.008820806578116661 Error_test:0.07228042787692016\n",
      "Epoch:700/1000 Error_train:0.007265760660829965 Error_test:0.07449881060737319\n",
      "Epoch:800/1000 Error_train:0.006108673314284996 Error_test:0.07666422396894028\n",
      "Epoch:900/1000 Error_train:0.005209417955454622 Error_test:0.07873748294177581\n"
     ]
    }
   ],
   "source": [
    "for i in range(epoch):\n",
    "\n",
    "    # -- 計算誤差 --  \n",
    "    forward_propagation(input_train)\n",
    "    error_train = get_error(correct_train, n_train)\n",
    "    forward_propagation(input_test)\n",
    "    error_test = get_error(correct_test, n_test)\n",
    "    \n",
    "    # -- 記錄誤差 -- \n",
    "    test_error_x.append(i)\n",
    "    test_error_y.append(error_test) \n",
    "    train_error_x.append(i)\n",
    "    train_error_y.append(error_train) \n",
    "    \n",
    "    # -- 顯示進度 -- \n",
    "    if i%interval == 0:\n",
    "        print(\"Epoch:\" + str(i) + \"/\" + str(epoch),\n",
    "              \"Error_train:\" + str(error_train),\n",
    "              \"Error_test:\" + str(error_test))\n",
    "\n",
    "    # -- 訓練 -- \n",
    "    index_random = np.arange(n_train)\n",
    "    np.random.shuffle(index_random)  # 索引洗牌\n",
    "    for j in range(n_batch):\n",
    "        \n",
    "        # 取出小批次\n",
    "        mb_index = index_random[j*batch_size : (j+1)*batch_size]\n",
    "        x = input_train[mb_index, :]\n",
    "        t = correct_train[mb_index, :]\n",
    "        \n",
    "        # 前向傳播與反向傳播\n",
    "        forward_propagation(x)\n",
    "        backpropagation(t)\n",
    "        \n",
    "        # 更新權重與偏值\n",
    "        update_wb() "
   ]
  },
  {
   "cell_type": "code",
   "execution_count": 21,
   "metadata": {},
   "outputs": [
    {
     "data": {
      "image/png": "[encoded data removed]",
      "text/plain": [
       "<Figure size 432x288 with 1 Axes>"
      ]
     },
     "metadata": {
      "needs_background": "light"
     },
     "output_type": "display_data"
    }
   ],
   "source": [
    "# -- 以圖表顯示誤差 -- \n",
    "plt.plot(train_error_x, train_error_y, label=\"Train\")\n",
    "plt.plot(test_error_x, test_error_y, label=\"Test\")\n",
    "plt.legend()\n",
    "\n",
    "plt.xlabel(\"Epochs\")\n",
    "plt.ylabel(\"Error\")\n",
    "\n",
    "plt.show()"
   ]
  },
  {
   "cell_type": "code",
   "execution_count": 22,
   "metadata": {},
   "outputs": [],
   "source": [
    "# -- 計算準確率 -- input_train\n",
    "forward_propagation(input_train)\n",
    "count_train = np.sum(np.argmax(output_layer.y, axis=1) == np.argmax(correct_train, axis=1))"
   ]
  },
  {
   "cell_type": "code",
   "execution_count": 23,
   "metadata": {},
   "outputs": [
    {
     "name": "stdout",
     "output_type": "stream",
     "text": [
      "(75, 3)\n"
     ]
    }
   ],
   "source": [
    "# -- 計算準確率 -- input_test\n",
    "forward_propagation(input_test)\n",
    "print(output_layer.y.shape)\n",
    "count_test = np.sum(np.argmax(output_layer.y, axis=1) == np.argmax(correct_test, axis=1))"
   ]
  },
  {
   "cell_type": "code",
   "execution_count": 24,
   "metadata": {},
   "outputs": [
    {
     "name": "stdout",
     "output_type": "stream",
     "text": [
      "Accuracy Train: 100.0% Accuracy Test: 96.0%\n"
     ]
    }
   ],
   "source": [
    "print(\"Accuracy Train:\", str(count_train/n_train*100) + \"%\",\n",
    "      \"Accuracy Test:\", str(count_test/n_test*100) + \"%\")"
   ]
  }
 ],
 "metadata": {
  "kernelspec": {
   "display_name": "Python 3",
   "language": "python",
   "name": "python3"
  },
  "language_info": {
   "codemirror_mode": {
    "name": "ipython",
    "version": 3
   },
   "file_extension": ".py",
   "mimetype": "text/x-python",
   "name": "python",
   "nbconvert_exporter": "python",
   "pygments_lexer": "ipython3",
   "version": "3.7.3"
  }
 },
 "nbformat": 4,
 "nbformat_minor": 2
}
